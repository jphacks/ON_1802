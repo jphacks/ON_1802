{
 "cells": [
  {
   "cell_type": "code",
   "execution_count": 2,
   "metadata": {},
   "outputs": [],
   "source": [
    "from trello import TrelloClient\n",
    "\n",
    "client = TrelloClient(\n",
    "    api_key='3a85624f838209902d4b41b1fb2dca57',\n",
    "    api_secret='2c5e26f8326e40afa6af981b0a2190c43151a366002d7ab8c5f4b5c466c6d5bd',\n",
    "    token='4360532b8408f3bc7ca7196c50253d26e52f02d955293091454b4e145bdab549',\n",
    ")"
   ]
  },
  {
   "cell_type": "code",
   "execution_count": null,
   "metadata": {},
   "outputs": [],
   "source": []
  }
 ],
 "metadata": {
  "kernelspec": {
   "display_name": "Python 3",
   "language": "python",
   "name": "python3"
  },
  "language_info": {
   "codemirror_mode": {
    "name": "ipython",
    "version": 3
   },
   "file_extension": ".py",
   "mimetype": "text/x-python",
   "name": "python",
   "nbconvert_exporter": "python",
   "pygments_lexer": "ipython3",
   "version": "3.7.0"
  }
 },
 "nbformat": 4,
 "nbformat_minor": 2
}
