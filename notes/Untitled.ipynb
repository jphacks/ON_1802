{
 "cells": [
  {
   "cell_type": "markdown",
   "metadata": {},
   "source": [
    "# pandasを使ってデータを扱う"
   ]
  },
  {
   "cell_type": "code",
   "execution_count": 2,
   "metadata": {},
   "outputs": [],
   "source": [
    "import pandas as pd"
   ]
  },
  {
   "cell_type": "markdown",
   "metadata": {},
   "source": [
    "## dataを受け取ってcsv形式で吐き出す\n",
    "taskのデータを受け取る  \n",
    "user_id = > ユーザid  \n",
    "task_name => タスクの名前  \n",
    "task_info => タスクの情報  \n",
    "time_limit => タスクの期限  "
   ]
  },
  {
   "cell_type": "code",
   "execution_count": 24,
   "metadata": {},
   "outputs": [],
   "source": [
    "user_id = 1\n",
    "task_name = '洗濯物をたたむ'\n",
    "task_info = '洗濯物が溜まってきたのでそろそろ畳まないといけない'\n",
    "time_limit = {'year':2018, 'month':10, 'date':18}"
   ]
  },
  {
   "cell_type": "code",
   "execution_count": 25,
   "metadata": {},
   "outputs": [
    {
     "data": {
      "text/plain": [
       "2018"
      ]
     },
     "execution_count": 25,
     "metadata": {},
     "output_type": "execute_result"
    }
   ],
   "source": [
    "time_limit['year']"
   ]
  },
  {
   "cell_type": "code",
   "execution_count": 22,
   "metadata": {},
   "outputs": [],
   "source": [
    "df = pd.DataFrame({\n",
    "    'user_id' : [user_id],\n",
    "    'task_name' : [task_name],\n",
    "    'task_info' : [task_info],\n",
    "    'time_limit' : [time_limit]\n",
    "})"
   ]
  },
  {
   "cell_type": "code",
   "execution_count": 23,
   "metadata": {},
   "outputs": [
    {
     "data": {
      "text/html": [
       "<div>\n",
       "<style scoped>\n",
       "    .dataframe tbody tr th:only-of-type {\n",
       "        vertical-align: middle;\n",
       "    }\n",
       "\n",
       "    .dataframe tbody tr th {\n",
       "        vertical-align: top;\n",
       "    }\n",
       "\n",
       "    .dataframe thead th {\n",
       "        text-align: right;\n",
       "    }\n",
       "</style>\n",
       "<table border=\"1\" class=\"dataframe\">\n",
       "  <thead>\n",
       "    <tr style=\"text-align: right;\">\n",
       "      <th></th>\n",
       "      <th>user_id</th>\n",
       "      <th>task_name</th>\n",
       "      <th>task_info</th>\n",
       "      <th>time_limit</th>\n",
       "    </tr>\n",
       "  </thead>\n",
       "  <tbody>\n",
       "    <tr>\n",
       "      <th>0</th>\n",
       "      <td>1</td>\n",
       "      <td>洗濯物をたたむ</td>\n",
       "      <td>洗濯物が溜まってきたのでそろそろ畳まないといけない</td>\n",
       "      <td>{'year': 2018, 'month': 10, 'date': 18}</td>\n",
       "    </tr>\n",
       "  </tbody>\n",
       "</table>\n",
       "</div>"
      ],
      "text/plain": [
       "   user_id task_name                  task_info  \\\n",
       "0        1   洗濯物をたたむ  洗濯物が溜まってきたのでそろそろ畳まないといけない   \n",
       "\n",
       "                                time_limit  \n",
       "0  {'year': 2018, 'month': 10, 'date': 18}  "
      ]
     },
     "execution_count": 23,
     "metadata": {},
     "output_type": "execute_result"
    }
   ],
   "source": [
    "df"
   ]
  },
  {
   "cell_type": "code",
   "execution_count": 29,
   "metadata": {},
   "outputs": [],
   "source": [
    "# csvファイルに書き出す\n",
    "df.to_csv(str(user_id) + '.csv')"
   ]
  },
  {
   "cell_type": "code",
   "execution_count": 27,
   "metadata": {},
   "outputs": [],
   "source": [
    "def save_task_data(task_dict):\n",
    "    task_dict"
   ]
  },
  {
   "cell_type": "code",
   "execution_count": 33,
   "metadata": {},
   "outputs": [],
   "source": [
    "def _chenge_dict_to_pandas(task_dict):\n",
    "    for key, data in task_dict.items():\n",
    "        task_dict[key] = [data]\n",
    "    return task_dict"
   ]
  },
  {
   "cell_type": "code",
   "execution_count": 36,
   "metadata": {},
   "outputs": [],
   "source": [
    "task_dict = {\n",
    "'user_id' : 1,\n",
    "'task_name' : '洗濯物をたたむ',\n",
    "'task_info' : '洗濯物が溜まってきたのでそろそろ畳まないといけない',\n",
    "'time_limit' : {'year':2018, 'month':10, 'date':18}\n",
    "}"
   ]
  },
  {
   "cell_type": "code",
   "execution_count": 31,
   "metadata": {},
   "outputs": [
    {
     "data": {
      "text/plain": [
       "{'user_id': 1,\n",
       " 'task_name': '洗濯物をたたむ',\n",
       " 'task_info': '洗濯物が溜まってきたのでそろそろ畳まないといけない',\n",
       " 'time_limit': {'year': 2018, 'month': 10, 'date': 18}}"
      ]
     },
     "execution_count": 31,
     "metadata": {},
     "output_type": "execute_result"
    }
   ],
   "source": [
    "task_dict"
   ]
  },
  {
   "cell_type": "code",
   "execution_count": 32,
   "metadata": {},
   "outputs": [
    {
     "name": "stdout",
     "output_type": "stream",
     "text": [
      "key: user_id\n",
      "data: 1\n",
      "key: task_name\n",
      "data: 洗濯物をたたむ\n",
      "key: task_info\n",
      "data: 洗濯物が溜まってきたのでそろそろ畳まないといけない\n",
      "key: time_limit\n",
      "data: {'year': 2018, 'month': 10, 'date': 18}\n"
     ]
    }
   ],
   "source": [
    "for key, data in task_dict.items():\n",
    "    print('key: ' + str(key))\n",
    "    print('data: ' + str(data))"
   ]
  },
  {
   "cell_type": "code",
   "execution_count": 34,
   "metadata": {},
   "outputs": [
    {
     "name": "stdout",
     "output_type": "stream",
     "text": [
      "{'user_id': [1], 'task_name': ['洗濯物をたたむ'], 'task_info': ['洗濯物が溜まってきたのでそろそろ畳まないといけない'], 'time_limit': [{'year': 2018, 'month': 10, 'date': 18}]}\n"
     ]
    }
   ],
   "source": [
    "print(_chenge_dict_to_pandas(task_dict))"
   ]
  },
  {
   "cell_type": "code",
   "execution_count": 37,
   "metadata": {},
   "outputs": [
    {
     "data": {
      "text/plain": [
       "{'user_id': 1,\n",
       " 'task_name': '洗濯物をたたむ',\n",
       " 'task_info': '洗濯物が溜まってきたのでそろそろ畳まないといけない',\n",
       " 'time_limit': {'year': 2018, 'month': 10, 'date': 18}}"
      ]
     },
     "execution_count": 37,
     "metadata": {},
     "output_type": "execute_result"
    }
   ],
   "source": [
    "task_dict"
   ]
  },
  {
   "cell_type": "code",
   "execution_count": 38,
   "metadata": {},
   "outputs": [
    {
     "data": {
      "text/html": [
       "<div>\n",
       "<style scoped>\n",
       "    .dataframe tbody tr th:only-of-type {\n",
       "        vertical-align: middle;\n",
       "    }\n",
       "\n",
       "    .dataframe tbody tr th {\n",
       "        vertical-align: top;\n",
       "    }\n",
       "\n",
       "    .dataframe thead th {\n",
       "        text-align: right;\n",
       "    }\n",
       "</style>\n",
       "<table border=\"1\" class=\"dataframe\">\n",
       "  <thead>\n",
       "    <tr style=\"text-align: right;\">\n",
       "      <th></th>\n",
       "      <th>user_id</th>\n",
       "      <th>task_name</th>\n",
       "      <th>task_info</th>\n",
       "      <th>time_limit</th>\n",
       "    </tr>\n",
       "  </thead>\n",
       "  <tbody>\n",
       "    <tr>\n",
       "      <th>0</th>\n",
       "      <td>1</td>\n",
       "      <td>洗濯物をたたむ</td>\n",
       "      <td>洗濯物が溜まってきたのでそろそろ畳まないといけない</td>\n",
       "      <td>{'year': 2018, 'month': 10, 'date': 18}</td>\n",
       "    </tr>\n",
       "  </tbody>\n",
       "</table>\n",
       "</div>"
      ],
      "text/plain": [
       "   user_id task_name                  task_info  \\\n",
       "0        1   洗濯物をたたむ  洗濯物が溜まってきたのでそろそろ畳まないといけない   \n",
       "\n",
       "                                time_limit  \n",
       "0  {'year': 2018, 'month': 10, 'date': 18}  "
      ]
     },
     "execution_count": 38,
     "metadata": {},
     "output_type": "execute_result"
    }
   ],
   "source": [
    "pd.DataFrame(_chenge_dict_to_pandas(task_dict))"
   ]
  },
  {
   "cell_type": "code",
   "execution_count": null,
   "metadata": {},
   "outputs": [],
   "source": []
  }
 ],
 "metadata": {
  "kernelspec": {
   "display_name": "Python 3",
   "language": "python",
   "name": "python3"
  },
  "language_info": {
   "codemirror_mode": {
    "name": "ipython",
    "version": 3
   },
   "file_extension": ".py",
   "mimetype": "text/x-python",
   "name": "python",
   "nbconvert_exporter": "python",
   "pygments_lexer": "ipython3",
   "version": "3.7.0"
  }
 },
 "nbformat": 4,
 "nbformat_minor": 2
}
