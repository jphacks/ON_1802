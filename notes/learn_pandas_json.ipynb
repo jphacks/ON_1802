{
 "cells": [
  {
   "cell_type": "markdown",
   "metadata": {},
   "source": [
    "# jsonをpandasで扱う\n",
    "データを扱う形式をcsvかjsonで行おうと思っている"
   ]
  },
  {
   "cell_type": "code",
   "execution_count": 2,
   "metadata": {},
   "outputs": [],
   "source": [
    "import pandas as pd\n",
    "import json"
   ]
  },
  {
   "cell_type": "code",
   "execution_count": 30,
   "metadata": {},
   "outputs": [],
   "source": [
    "task_dict1 = {'user_id' : [1],\n",
    "                        'task_name' : ['洗濯物をたたむ'],\n",
    "                        'task_info' : ['洗濯物が溜まってきたのでそろそろ畳まないといけない'],\n",
    "                        'time_limit' : [{'year':2018, 'month':10, 'date':18}]}"
   ]
  },
  {
   "cell_type": "code",
   "execution_count": 36,
   "metadata": {},
   "outputs": [
    {
     "data": {
      "text/plain": [
       "{'user_id': [1],\n",
       " 'task_name': ['洗濯物をたたむ'],\n",
       " 'task_info': ['洗濯物が溜まってきたのでそろそろ畳まないといけない'],\n",
       " 'time_limit': [{'year': 2018, 'month': 10, 'date': 18}]}"
      ]
     },
     "execution_count": 36,
     "metadata": {},
     "output_type": "execute_result"
    }
   ],
   "source": [
    "task_dict1"
   ]
  },
  {
   "cell_type": "code",
   "execution_count": 38,
   "metadata": {},
   "outputs": [],
   "source": [
    "df = pd.DataFrame(task_dict1)"
   ]
  },
  {
   "cell_type": "code",
   "execution_count": 39,
   "metadata": {},
   "outputs": [
    {
     "data": {
      "text/html": [
       "<div>\n",
       "<style scoped>\n",
       "    .dataframe tbody tr th:only-of-type {\n",
       "        vertical-align: middle;\n",
       "    }\n",
       "\n",
       "    .dataframe tbody tr th {\n",
       "        vertical-align: top;\n",
       "    }\n",
       "\n",
       "    .dataframe thead th {\n",
       "        text-align: right;\n",
       "    }\n",
       "</style>\n",
       "<table border=\"1\" class=\"dataframe\">\n",
       "  <thead>\n",
       "    <tr style=\"text-align: right;\">\n",
       "      <th></th>\n",
       "      <th>user_id</th>\n",
       "      <th>task_name</th>\n",
       "      <th>task_info</th>\n",
       "      <th>time_limit</th>\n",
       "    </tr>\n",
       "  </thead>\n",
       "  <tbody>\n",
       "    <tr>\n",
       "      <th>0</th>\n",
       "      <td>1</td>\n",
       "      <td>洗濯物をたたむ</td>\n",
       "      <td>洗濯物が溜まってきたのでそろそろ畳まないといけない</td>\n",
       "      <td>{'year': 2018, 'month': 10, 'date': 18}</td>\n",
       "    </tr>\n",
       "  </tbody>\n",
       "</table>\n",
       "</div>"
      ],
      "text/plain": [
       "   user_id task_name                  task_info  \\\n",
       "0        1   洗濯物をたたむ  洗濯物が溜まってきたのでそろそろ畳まないといけない   \n",
       "\n",
       "                                time_limit  \n",
       "0  {'year': 2018, 'month': 10, 'date': 18}  "
      ]
     },
     "execution_count": 39,
     "metadata": {},
     "output_type": "execute_result"
    }
   ],
   "source": [
    "df"
   ]
  },
  {
   "cell_type": "code",
   "execution_count": 6,
   "metadata": {},
   "outputs": [],
   "source": [
    "df.to_json('1.json')"
   ]
  },
  {
   "cell_type": "code",
   "execution_count": 13,
   "metadata": {},
   "outputs": [],
   "source": [
    "df1 = pd.read_json('1.json')"
   ]
  },
  {
   "cell_type": "code",
   "execution_count": 15,
   "metadata": {},
   "outputs": [
    {
     "data": {
      "text/html": [
       "<div>\n",
       "<style scoped>\n",
       "    .dataframe tbody tr th:only-of-type {\n",
       "        vertical-align: middle;\n",
       "    }\n",
       "\n",
       "    .dataframe tbody tr th {\n",
       "        vertical-align: top;\n",
       "    }\n",
       "\n",
       "    .dataframe thead th {\n",
       "        text-align: right;\n",
       "    }\n",
       "</style>\n",
       "<table border=\"1\" class=\"dataframe\">\n",
       "  <thead>\n",
       "    <tr style=\"text-align: right;\">\n",
       "      <th></th>\n",
       "      <th>user_id</th>\n",
       "      <th>task_name</th>\n",
       "      <th>task_info</th>\n",
       "      <th>time_limit</th>\n",
       "    </tr>\n",
       "  </thead>\n",
       "  <tbody>\n",
       "    <tr>\n",
       "      <th>0</th>\n",
       "      <td>1</td>\n",
       "      <td>洗濯物をたたむ</td>\n",
       "      <td>洗濯物が溜まってきたのでそろそろ畳まないといけない</td>\n",
       "      <td>{'year': 2018, 'month': 10, 'date': 18}</td>\n",
       "    </tr>\n",
       "  </tbody>\n",
       "</table>\n",
       "</div>"
      ],
      "text/plain": [
       "   user_id task_name                  task_info  \\\n",
       "0        1   洗濯物をたたむ  洗濯物が溜まってきたのでそろそろ畳まないといけない   \n",
       "\n",
       "                                time_limit  \n",
       "0  {'year': 2018, 'month': 10, 'date': 18}  "
      ]
     },
     "execution_count": 15,
     "metadata": {},
     "output_type": "execute_result"
    }
   ],
   "source": [
    "df1"
   ]
  },
  {
   "cell_type": "code",
   "execution_count": 16,
   "metadata": {},
   "outputs": [
    {
     "data": {
      "text/plain": [
       "dict"
      ]
     },
     "execution_count": 16,
     "metadata": {},
     "output_type": "execute_result"
    }
   ],
   "source": [
    "type(df1['time_limit'][0])"
   ]
  },
  {
   "cell_type": "code",
   "execution_count": 61,
   "metadata": {},
   "outputs": [],
   "source": [
    "task_dict2 = {'user_id' : 1,\n",
    "    'task_name' : '食器を洗う',\n",
    "    'task_info' : '食洗機欲しい',\n",
    "    'time_limit' : {'year':2018, 'month':10, 'date':29}}"
   ]
  },
  {
   "cell_type": "code",
   "execution_count": 62,
   "metadata": {},
   "outputs": [
    {
     "data": {
      "text/plain": [
       "{'user_id': 1,\n",
       " 'task_name': '食器を洗う',\n",
       " 'task_info': '食洗機欲しい',\n",
       " 'time_limit': {'year': 2018, 'month': 10, 'date': 29}}"
      ]
     },
     "execution_count": 62,
     "metadata": {},
     "output_type": "execute_result"
    }
   ],
   "source": [
    "task_dict2"
   ]
  },
  {
   "cell_type": "code",
   "execution_count": 64,
   "metadata": {},
   "outputs": [],
   "source": [
    "task = pd.Series(task_dict2)"
   ]
  },
  {
   "cell_type": "code",
   "execution_count": 66,
   "metadata": {},
   "outputs": [
    {
     "data": {
      "text/html": [
       "<div>\n",
       "<style scoped>\n",
       "    .dataframe tbody tr th:only-of-type {\n",
       "        vertical-align: middle;\n",
       "    }\n",
       "\n",
       "    .dataframe tbody tr th {\n",
       "        vertical-align: top;\n",
       "    }\n",
       "\n",
       "    .dataframe thead th {\n",
       "        text-align: right;\n",
       "    }\n",
       "</style>\n",
       "<table border=\"1\" class=\"dataframe\">\n",
       "  <thead>\n",
       "    <tr style=\"text-align: right;\">\n",
       "      <th></th>\n",
       "      <th>user_id</th>\n",
       "      <th>task_name</th>\n",
       "      <th>task_info</th>\n",
       "      <th>time_limit</th>\n",
       "    </tr>\n",
       "  </thead>\n",
       "  <tbody>\n",
       "    <tr>\n",
       "      <th>0</th>\n",
       "      <td>1</td>\n",
       "      <td>洗濯物をたたむ</td>\n",
       "      <td>洗濯物が溜まってきたのでそろそろ畳まないといけない</td>\n",
       "      <td>{'year': 2018, 'month': 10, 'date': 18}</td>\n",
       "    </tr>\n",
       "    <tr>\n",
       "      <th>1</th>\n",
       "      <td>[1]</td>\n",
       "      <td>[食器を洗う]</td>\n",
       "      <td>[食洗機欲しい]</td>\n",
       "      <td>[{'year': 2018, 'month': 10, 'date': 29}]</td>\n",
       "    </tr>\n",
       "    <tr>\n",
       "      <th>2</th>\n",
       "      <td>[1]</td>\n",
       "      <td>[食器を洗う]</td>\n",
       "      <td>[食洗機欲しい]</td>\n",
       "      <td>[{'year': 2018, 'month': 10, 'date': 29}]</td>\n",
       "    </tr>\n",
       "    <tr>\n",
       "      <th>3</th>\n",
       "      <td>[1]</td>\n",
       "      <td>[食器を洗う]</td>\n",
       "      <td>[食洗機欲しい]</td>\n",
       "      <td>[{'year': 2018, 'month': 10, 'date': 29}]</td>\n",
       "    </tr>\n",
       "    <tr>\n",
       "      <th>4</th>\n",
       "      <td>[1]</td>\n",
       "      <td>[食器を洗う]</td>\n",
       "      <td>[食洗機欲しい]</td>\n",
       "      <td>[{'year': 2018, 'month': 10, 'date': 29}]</td>\n",
       "    </tr>\n",
       "  </tbody>\n",
       "</table>\n",
       "</div>"
      ],
      "text/plain": [
       "  user_id task_name                  task_info  \\\n",
       "0       1   洗濯物をたたむ  洗濯物が溜まってきたのでそろそろ畳まないといけない   \n",
       "1     [1]   [食器を洗う]                   [食洗機欲しい]   \n",
       "2     [1]   [食器を洗う]                   [食洗機欲しい]   \n",
       "3     [1]   [食器を洗う]                   [食洗機欲しい]   \n",
       "4     [1]   [食器を洗う]                   [食洗機欲しい]   \n",
       "\n",
       "                                  time_limit  \n",
       "0    {'year': 2018, 'month': 10, 'date': 18}  \n",
       "1  [{'year': 2018, 'month': 10, 'date': 29}]  \n",
       "2  [{'year': 2018, 'month': 10, 'date': 29}]  \n",
       "3  [{'year': 2018, 'month': 10, 'date': 29}]  \n",
       "4  [{'year': 2018, 'month': 10, 'date': 29}]  "
      ]
     },
     "execution_count": 66,
     "metadata": {},
     "output_type": "execute_result"
    }
   ],
   "source": [
    "df"
   ]
  },
  {
   "cell_type": "code",
   "execution_count": 67,
   "metadata": {},
   "outputs": [
    {
     "data": {
      "text/plain": [
       "user_id                                             1\n",
       "task_name                                       食器を洗う\n",
       "task_info                                      食洗機欲しい\n",
       "time_limit    {'year': 2018, 'month': 10, 'date': 29}\n",
       "dtype: object"
      ]
     },
     "execution_count": 67,
     "metadata": {},
     "output_type": "execute_result"
    }
   ],
   "source": [
    "task"
   ]
  },
  {
   "cell_type": "code",
   "execution_count": 68,
   "metadata": {},
   "outputs": [],
   "source": [
    "df = df.append(task, ignore_index=True)"
   ]
  },
  {
   "cell_type": "code",
   "execution_count": 70,
   "metadata": {},
   "outputs": [
    {
     "data": {
      "text/html": [
       "<div>\n",
       "<style scoped>\n",
       "    .dataframe tbody tr th:only-of-type {\n",
       "        vertical-align: middle;\n",
       "    }\n",
       "\n",
       "    .dataframe tbody tr th {\n",
       "        vertical-align: top;\n",
       "    }\n",
       "\n",
       "    .dataframe thead th {\n",
       "        text-align: right;\n",
       "    }\n",
       "</style>\n",
       "<table border=\"1\" class=\"dataframe\">\n",
       "  <thead>\n",
       "    <tr style=\"text-align: right;\">\n",
       "      <th></th>\n",
       "      <th>user_id</th>\n",
       "      <th>task_name</th>\n",
       "      <th>task_info</th>\n",
       "      <th>time_limit</th>\n",
       "    </tr>\n",
       "  </thead>\n",
       "  <tbody>\n",
       "    <tr>\n",
       "      <th>0</th>\n",
       "      <td>1</td>\n",
       "      <td>洗濯物をたたむ</td>\n",
       "      <td>洗濯物が溜まってきたのでそろそろ畳まないといけない</td>\n",
       "      <td>{'year': 2018, 'month': 10, 'date': 18}</td>\n",
       "    </tr>\n",
       "    <tr>\n",
       "      <th>1</th>\n",
       "      <td>[1]</td>\n",
       "      <td>[食器を洗う]</td>\n",
       "      <td>[食洗機欲しい]</td>\n",
       "      <td>[{'year': 2018, 'month': 10, 'date': 29}]</td>\n",
       "    </tr>\n",
       "    <tr>\n",
       "      <th>2</th>\n",
       "      <td>[1]</td>\n",
       "      <td>[食器を洗う]</td>\n",
       "      <td>[食洗機欲しい]</td>\n",
       "      <td>[{'year': 2018, 'month': 10, 'date': 29}]</td>\n",
       "    </tr>\n",
       "    <tr>\n",
       "      <th>3</th>\n",
       "      <td>[1]</td>\n",
       "      <td>[食器を洗う]</td>\n",
       "      <td>[食洗機欲しい]</td>\n",
       "      <td>[{'year': 2018, 'month': 10, 'date': 29}]</td>\n",
       "    </tr>\n",
       "    <tr>\n",
       "      <th>4</th>\n",
       "      <td>[1]</td>\n",
       "      <td>[食器を洗う]</td>\n",
       "      <td>[食洗機欲しい]</td>\n",
       "      <td>[{'year': 2018, 'month': 10, 'date': 29}]</td>\n",
       "    </tr>\n",
       "    <tr>\n",
       "      <th>5</th>\n",
       "      <td>1</td>\n",
       "      <td>食器を洗う</td>\n",
       "      <td>食洗機欲しい</td>\n",
       "      <td>{'year': 2018, 'month': 10, 'date': 29}</td>\n",
       "    </tr>\n",
       "  </tbody>\n",
       "</table>\n",
       "</div>"
      ],
      "text/plain": [
       "  user_id task_name                  task_info  \\\n",
       "0       1   洗濯物をたたむ  洗濯物が溜まってきたのでそろそろ畳まないといけない   \n",
       "1     [1]   [食器を洗う]                   [食洗機欲しい]   \n",
       "2     [1]   [食器を洗う]                   [食洗機欲しい]   \n",
       "3     [1]   [食器を洗う]                   [食洗機欲しい]   \n",
       "4     [1]   [食器を洗う]                   [食洗機欲しい]   \n",
       "5       1     食器を洗う                     食洗機欲しい   \n",
       "\n",
       "                                  time_limit  \n",
       "0    {'year': 2018, 'month': 10, 'date': 18}  \n",
       "1  [{'year': 2018, 'month': 10, 'date': 29}]  \n",
       "2  [{'year': 2018, 'month': 10, 'date': 29}]  \n",
       "3  [{'year': 2018, 'month': 10, 'date': 29}]  \n",
       "4  [{'year': 2018, 'month': 10, 'date': 29}]  \n",
       "5    {'year': 2018, 'month': 10, 'date': 29}  "
      ]
     },
     "execution_count": 70,
     "metadata": {},
     "output_type": "execute_result"
    }
   ],
   "source": [
    "df"
   ]
  },
  {
   "cell_type": "code",
   "execution_count": 82,
   "metadata": {},
   "outputs": [],
   "source": [
    "df = df.drop(df[df['task_name'] == '洗濯物をたたむ'].index)"
   ]
  },
  {
   "cell_type": "code",
   "execution_count": 83,
   "metadata": {},
   "outputs": [
    {
     "data": {
      "text/html": [
       "<div>\n",
       "<style scoped>\n",
       "    .dataframe tbody tr th:only-of-type {\n",
       "        vertical-align: middle;\n",
       "    }\n",
       "\n",
       "    .dataframe tbody tr th {\n",
       "        vertical-align: top;\n",
       "    }\n",
       "\n",
       "    .dataframe thead th {\n",
       "        text-align: right;\n",
       "    }\n",
       "</style>\n",
       "<table border=\"1\" class=\"dataframe\">\n",
       "  <thead>\n",
       "    <tr style=\"text-align: right;\">\n",
       "      <th></th>\n",
       "      <th>user_id</th>\n",
       "      <th>task_name</th>\n",
       "      <th>task_info</th>\n",
       "      <th>time_limit</th>\n",
       "    </tr>\n",
       "  </thead>\n",
       "  <tbody>\n",
       "    <tr>\n",
       "      <th>5</th>\n",
       "      <td>1</td>\n",
       "      <td>食器を洗う</td>\n",
       "      <td>食洗機欲しい</td>\n",
       "      <td>{'year': 2018, 'month': 10, 'date': 29}</td>\n",
       "    </tr>\n",
       "  </tbody>\n",
       "</table>\n",
       "</div>"
      ],
      "text/plain": [
       "  user_id task_name task_info                               time_limit\n",
       "5       1     食器を洗う    食洗機欲しい  {'year': 2018, 'month': 10, 'date': 29}"
      ]
     },
     "execution_count": 83,
     "metadata": {},
     "output_type": "execute_result"
    }
   ],
   "source": [
    "df"
   ]
  },
  {
   "cell_type": "markdown",
   "metadata": {},
   "source": [
    "# 空のDataFrameにcolumnを追加"
   ]
  },
  {
   "cell_type": "code",
   "execution_count": 93,
   "metadata": {},
   "outputs": [],
   "source": [
    "df = pd.DataFrame(columns=['user_id', 'task_name', 'task_info', 'time_limit'])"
   ]
  },
  {
   "cell_type": "code",
   "execution_count": 94,
   "metadata": {},
   "outputs": [
    {
     "data": {
      "text/html": [
       "<div>\n",
       "<style scoped>\n",
       "    .dataframe tbody tr th:only-of-type {\n",
       "        vertical-align: middle;\n",
       "    }\n",
       "\n",
       "    .dataframe tbody tr th {\n",
       "        vertical-align: top;\n",
       "    }\n",
       "\n",
       "    .dataframe thead th {\n",
       "        text-align: right;\n",
       "    }\n",
       "</style>\n",
       "<table border=\"1\" class=\"dataframe\">\n",
       "  <thead>\n",
       "    <tr style=\"text-align: right;\">\n",
       "      <th></th>\n",
       "      <th>user_id</th>\n",
       "      <th>task_name</th>\n",
       "      <th>task_info</th>\n",
       "      <th>time_limit</th>\n",
       "    </tr>\n",
       "  </thead>\n",
       "  <tbody>\n",
       "  </tbody>\n",
       "</table>\n",
       "</div>"
      ],
      "text/plain": [
       "Empty DataFrame\n",
       "Columns: [user_id, task_name, task_info, time_limit]\n",
       "Index: []"
      ]
     },
     "execution_count": 94,
     "metadata": {},
     "output_type": "execute_result"
    }
   ],
   "source": [
    "df"
   ]
  },
  {
   "cell_type": "code",
   "execution_count": null,
   "metadata": {},
   "outputs": [],
   "source": []
  }
 ],
 "metadata": {
  "kernelspec": {
   "display_name": "Python 3",
   "language": "python",
   "name": "python3"
  },
  "language_info": {
   "codemirror_mode": {
    "name": "ipython",
    "version": 3
   },
   "file_extension": ".py",
   "mimetype": "text/x-python",
   "name": "python",
   "nbconvert_exporter": "python",
   "pygments_lexer": "ipython3",
   "version": "3.7.0"
  }
 },
 "nbformat": 4,
 "nbformat_minor": 2
}
